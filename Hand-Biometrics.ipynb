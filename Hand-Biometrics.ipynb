{
 "cells": [
  {
   "cell_type": "markdown",
   "metadata": {},
   "source": [
    "# Step1: Biometric using Hand Geometry"
   ]
  },
  {
   "cell_type": "code",
   "execution_count": 2,
   "metadata": {},
   "outputs": [],
   "source": [
    "from PIL import Image\n",
    "from scipy import ndimage as ndi\n",
    "from skimage.feature import peak_local_max\n",
    "from skimage import data, img_as_float\n",
    "import binascii\n",
    "import matplotlib.pyplot as plt\n",
    "import matplotlib.image as mpimg\n",
    "import cv2\n",
    "import numpy as np\n",
    "import imutils\n"
   ]
  },
  {
   "cell_type": "code",
   "execution_count": 3,
   "metadata": {},
   "outputs": [],
   "source": [
    "def displayImage(name,data):\n",
    " \n",
    "    '''\n",
    "     Input:- Image-name, image-path to be display\n",
    "     Output:- Display image on separate window\n",
    " \n",
    "    '''\n",
    "    cv2.imshow(name, data)\n",
    "    cv2.waitKey(0)\n",
    "    cv2.destroyAllWindows()"
   ]
  },
  {
   "cell_type": "markdown",
   "metadata": {},
   "source": [
    "# Step 1a): Image Preprocessing"
   ]
  },
  {
   "cell_type": "code",
   "execution_count": 4,
   "metadata": {},
   "outputs": [],
   "source": [
    "'''\n",
    " --Acquired the coloured hand image\n",
    " --resize the image \n",
    " --rotate the image by -90-degree\n",
    " \n",
    "'''\n",
    "originalImage = cv2.imread('hand.jpg')\n",
    "resizedImage1 = cv2.resize(originalImage, (200,200))\n",
    "resizedImage = imutils.rotate(resizedImage1, -90)\n",
    "displayImage(\"resized\",resizedImage)\n"
   ]
  },
  {
   "cell_type": "code",
   "execution_count": 5,
   "metadata": {},
   "outputs": [],
   "source": [
    "'''\n",
    "  convert the hand-image into Gray image \n",
    "  \n",
    "'''\n",
    "#convert the image into GrayImage\n",
    "grayImage = cv2.cvtColor(resizedImage, cv2.COLOR_BGR2GRAY)\n",
    "\n",
    "#convert the image into black and white\n",
    "(thresh, blackAndWhiteImage) = cv2.threshold(grayImage, 127, 255, cv2.THRESH_BINARY)\n",
    " \n",
    "displayImage('Black white image', blackAndWhiteImage)\n",
    "displayImage('Original image',resizedImage)\n",
    "displayImage('Gray image', grayImage)"
   ]
  },
  {
   "cell_type": "code",
   "execution_count": 6,
   "metadata": {},
   "outputs": [],
   "source": [
    "'''\n",
    "Gaussian filter had used to remove the background noise of the image\n",
    "\n",
    "'''\n",
    "#median filter \n",
    "median = cv2.medianBlur(resizedImage, 5)\n",
    "compare = np.concatenate((resizedImage, median), axis=1) #side by side comparison\n",
    "displayImage('img', compare)\n",
    "\n",
    "#gaussian filtering\n",
    "blur = cv2.GaussianBlur(grayImage,(5,5),0)\n",
    "displayImage(\"Gaussianblur\",blur)\n"
   ]
  },
  {
   "cell_type": "code",
   "execution_count": 7,
   "metadata": {},
   "outputs": [],
   "source": [
    "'''\n",
    "hand image is changed over to the “binary image” by thresholding\n",
    "# applying Otsu thresholding \n",
    "# as an extra flag in binary  \n",
    "# thresholding\n",
    "'''\n",
    "ret, thresh1 = cv2.threshold(blur, 0, 255, cv2.THRESH_BINARY +  cv2.THRESH_OTSU) \n",
    "displayImage('Otsu Threshold', thresh1)          \n",
    "\n",
    "ret3,th3 = cv2.threshold(blur,0,255,cv2.THRESH_BINARY+cv2.THRESH_OTSU)"
   ]
  },
  {
   "cell_type": "markdown",
   "metadata": {},
   "source": [
    "# Step 1b): Feature Extraction\n"
   ]
  },
  {
   "cell_type": "code",
   "execution_count": 8,
   "metadata": {},
   "outputs": [],
   "source": [
    "'''\n",
    "Boundary Tracing of the preprocessed hand image\n",
    "-trace contours of image used to plot all the contours point\n",
    "'''\n",
    "\n",
    "cnts = cv2.findContours(thresh1, cv2.RETR_EXTERNAL, cv2.CHAIN_APPROX_SIMPLE)\n",
    "#print(cnts)\n",
    "\n",
    "cnts = imutils.grab_contours(cnts)\n",
    "c = max(cnts, key=cv2.contourArea)\n",
    "\n",
    "\n",
    "# determine the most extreme points along the contour\n",
    "extLeft = tuple(c[c[:, :, 0].argmin()][0])\n",
    "extRight = tuple(c[c[:, :, 0].argmax()][0])\n",
    "extTop = tuple(c[c[:, :, 1].argmin()][0])\n",
    "extBot = tuple(c[c[:, :, 1].argmax()][0])\n",
    "\n",
    "# draw the outline of the object, then draw each of the\n",
    "# extreme points, where the left-most is red, right-most\n",
    "# is green, top-most is blue, and bottom-most is teal\n",
    "cv2.drawContours(thresh1, [c], -1, (125, 125, 125), 2)\n",
    "cv2.circle(thresh1, extLeft, 8, (50, 100, 200), -1)\n",
    "cv2.circle(thresh1, extRight, 8, (100, 50, 80), -1)\n",
    "cv2.circle(thresh1, extTop, 8, (50, 50, 50), -1)\n",
    "cv2.circle(thresh1, extBot, 8, (50, 50, 50), -1)\n",
    "\n",
    "displayImage(\"Image\", thresh1)\n",
    "\n",
    "\n"
   ]
  },
  {
   "cell_type": "code",
   "execution_count": 9,
   "metadata": {},
   "outputs": [
    {
     "data": {
      "text/plain": [
       "[<matplotlib.lines.Line2D at 0x25eae314860>]"
      ]
     },
     "execution_count": 9,
     "metadata": {},
     "output_type": "execute_result"
    },
    {
     "data": {
      "image/png": "[encoded data removed]",
      "text/plain": [
       "<Figure size 432x288 with 1 Axes>"
      ]
     },
     "metadata": {},
     "output_type": "display_data"
    }
   ],
   "source": [
    "#print all the contours point\n",
    "#remove\n",
    "#print(cnts)\n",
    "items = [tuple(item[0]) for npar in cnts for item in npar]\n",
    "\n",
    "#print(items)\n",
    "\n",
    "xRes = [lis[0] for lis in items]\n",
    "yRes = [lis[1] for lis in items]\n",
    "\n",
    "plt.plot(yRes,xRes)\n"
   ]
  },
  {
   "cell_type": "code",
   "execution_count": 10,
   "metadata": {},
   "outputs": [
    {
     "data": {
      "text/plain": [
       "<matplotlib.image.AxesImage at 0x25eadf69f60>"
      ]
     },
     "execution_count": 10,
     "metadata": {},
     "output_type": "execute_result"
    },
    {
     "data": {
      "image/png": "[encoded data removed]",
      "text/plain": [
       "<Figure size 432x288 with 1 Axes>"
      ]
     },
     "metadata": {},
     "output_type": "display_data"
    }
   ],
   "source": [
    "'''\n",
    "- Detect the convex contour\n",
    "- find the X-Y coordinates of hand image\n",
    "- find convex hull\n",
    "'''\n",
    "\n",
    "hull = cv2.convexHull(cnts[0])\n",
    "\n",
    "#print(hull)\n",
    "\n",
    "xhull = [item[0] for sublist in hull for item in sublist]\n",
    "yhull = [item[1] for sublist in hull for item in sublist]\n",
    "#print('convexHull-X-coord:= ',xhull)\n",
    "#print('convexHull-Y-coord:= ',yhull)\n",
    "\n",
    "img_copy = thresh1.copy()\n",
    "img_hull = cv2.drawContours(img_copy, contours = [hull], \n",
    "                            contourIdx = 0, \n",
    "                            color = (125, 125, 125), thickness = 2)\n",
    "plt.imshow(img_hull)\n",
    "\n"
   ]
  },
  {
   "cell_type": "code",
   "execution_count": 11,
   "metadata": {},
   "outputs": [],
   "source": [
    "'''\n",
    "- find the coordinates of center point for hand image\n",
    "- highlight the center point\n",
    "'''\n",
    "# calculate moments of binary image\n",
    "M = cv2.moments(th3)\n",
    " \n",
    "# calculate x,y coordinate of center\n",
    "cX = int(M[\"m10\"] / M[\"m00\"])\n",
    "cY = int(M[\"m01\"] / M[\"m00\"])\n",
    "#print(\"cX\",cX) \n",
    "#print(\"cY\",cY) \n",
    "\n",
    "# put text and highlight the center\n",
    "cv2.circle(th3, (cX, cY), 5, (125, 125, 255), -1)\n",
    "cv2.putText(th3, \"centroid\", (cX - 25, cY - 25),cv2.FONT_HERSHEY_SIMPLEX, 0.5, (255, 255, 255), 2)\n",
    " \n",
    "# display the image\n",
    "displayImage(\"Image\", th3)\n"
   ]
  },
  {
   "cell_type": "code",
   "execution_count": 12,
   "metadata": {},
   "outputs": [
    {
     "data": {
      "text/plain": [
       "Text(0,0.5,'xhull')"
      ]
     },
     "execution_count": 12,
     "metadata": {},
     "output_type": "execute_result"
    },
    {
     "data": {
      "image/png": "[encoded data removed]",
      "text/plain": [
       "<Figure size 432x288 with 1 Axes>"
      ]
     },
     "metadata": {},
     "output_type": "display_data"
    }
   ],
   "source": [
    "'''\n",
    "- plot the X-Y coordinates of contours point and center point\n",
    "'''\n",
    "plt.plot(yRes,xRes)\n",
    "plt.plot(yhull,xhull,'ro')\n",
    "plt.plot(cY,cX,'go')\n",
    "plt.xlabel(\"yhull\")\n",
    "plt.ylabel(\"xhull\")\n"
   ]
  },
  {
   "cell_type": "code",
   "execution_count": 13,
   "metadata": {},
   "outputs": [
    {
     "data": {
      "text/plain": [
       "Text(0,0.5,'xhullupdated')"
      ]
     },
     "execution_count": 13,
     "metadata": {},
     "output_type": "execute_result"
    },
    {
     "data": {
      "image/png": "[encoded data removed]",
      "text/plain": [
       "<Figure size 432x288 with 1 Axes>"
      ]
     },
     "metadata": {},
     "output_type": "display_data"
    }
   ],
   "source": [
    "'''\n",
    " To find the tips point from hand geometry\n",
    " Consider the points above the center point which indicate the tip points\n",
    "'''\n",
    "\n",
    "#only take the coordinates of tip points\n",
    "xhullUpdated = []\n",
    "yhullUpdated = []\n",
    "t=0;\n",
    "for i in yhull:\n",
    "    if(i<cY):\n",
    "        yhullUpdated.append(i)\n",
    "        xhullUpdated.append(xhull[t])\n",
    "    t=t+1\n",
    "\n",
    "plt.plot(yRes,xRes)\n",
    "plt.plot(yhullUpdated,xhullUpdated,'ro')\n",
    "plt.plot(cY,cX,'go')\n",
    "plt.xlabel(\"yhullUpdated\")\n",
    "plt.ylabel(\"xhullupdated\")\n",
    "\n",
    "#print('yhullUpdated',yhullUpdated)\n",
    "#print('xhullUpdated',xhullUpdated)"
   ]
  },
  {
   "cell_type": "markdown",
   "metadata": {},
   "source": [
    "# Step 1c): Key Generation"
   ]
  },
  {
   "cell_type": "code",
   "execution_count": 14,
   "metadata": {},
   "outputs": [],
   "source": [
    "'''\n",
    "Euclidean distance between center point and all other points of convex hull(tips point)\n",
    "\n",
    "'''\n",
    "distVector = []\n",
    "length=int(len(yhullUpdated))\n",
    "for i in range(length):\n",
    "    distVector.append(np.sqrt( (xhullUpdated[i]-cX)**2 + (yhullUpdated[i]-cY)**2 ))\n",
    "    #distVector.append(dist)\n",
    "\n",
    "#print(distVector)"
   ]
  },
  {
   "cell_type": "code",
   "execution_count": 15,
   "metadata": {},
   "outputs": [
    {
     "name": "stdout",
     "output_type": "stream",
     "text": [
      "Variance of sample set is 59.81944190387565\n",
      "Standard Deviation of sample is 7.734302935874418 \n"
     ]
    }
   ],
   "source": [
    "'''\n",
    "Variance and standard deviation is calculated for pairwise Euclidean distance\n",
    "'''\n",
    "import statistics \n",
    "\n",
    "variance = statistics.variance(distVector)\n",
    "std_dev = statistics.stdev(distVector)\n",
    "print(\"Variance of sample set is % s\"  %(variance))\n",
    "print(\"Standard Deviation of sample is % s \" %(std_dev)) "
   ]
  },
  {
   "cell_type": "code",
   "execution_count": 16,
   "metadata": {},
   "outputs": [
    {
     "name": "stdout",
     "output_type": "stream",
     "text": [
      "Key Generated:-  58\n"
     ]
    }
   ],
   "source": [
    "'''\n",
    "Unique 3 digit key generation\n",
    "Key= (Most Significant 1 Digits of p1) * 10 + (Least Significant 1 Digits p2)\n",
    "Where\n",
    "P1 = variance of Hand points pairs wise distance\n",
    "P2 = standard deviation of Hand points pairs wise distance\n",
    "\n",
    "'''\n",
    "MSB = int(str(variance)[:1])\n",
    "LSB = int(str(std_dev)[-1:])\n",
    "#print(MSB,LSB)\n",
    "key = (MSB)* 10 + (LSB)\n",
    "print(\"Key Generated:- \",key)"
   ]
  },
  {
   "cell_type": "markdown",
   "metadata": {},
   "source": [
    "# Step2:- Encrypt Msg using Ceaser Cipher\n"
   ]
  },
  {
   "cell_type": "code",
   "execution_count": 17,
   "metadata": {},
   "outputs": [],
   "source": [
    "hand_key = key\n",
    "Number = hand_key\n",
    "Sum = 0\n",
    "while(Number > 0):\n",
    "    r = Number % 10\n",
    "    Sum = Sum + r\n",
    "    Number = Number//10\n",
    "#print(Sum)"
   ]
  },
  {
   "cell_type": "code",
   "execution_count": 18,
   "metadata": {},
   "outputs": [
    {
     "name": "stdout",
     "output_type": "stream",
     "text": [
      "Enter data to be encoded(Without Space) : Steganography\n",
      "Cipher-Msg: Fgrtnabtencul\n"
     ]
    }
   ],
   "source": [
    "def encrypt(text,s):\n",
    "    result = \"\"\n",
    "    #print(\"lrngth\" , len(text))\n",
    "    for i in range(len(text)):\n",
    "        char = text[i]\n",
    "        # Encrypt uppercase characters in plain text\n",
    "        if (char.isupper()):\n",
    "            result += chr((ord(char) + s-65) % 26 + 65)\n",
    "        # Encrypt lowercase characters in plain text\n",
    "        else:\n",
    "            result += chr((ord(char) + s - 97) % 26 + 97)\n",
    "    return result\n",
    "\n",
    "text = input(\"Enter data to be encoded(Without Space) : \") \n",
    "#print (\"Plain Text : \" + text)\n",
    "#print (\"Shift pattern : \" + str(Sum))\n",
    "print (\"Cipher-Msg: \" + encrypt(text,Sum))\n"
   ]
  },
  {
   "cell_type": "markdown",
   "metadata": {},
   "source": [
    "# Step 3: Image Steganography using LSB\n"
   ]
  },
  {
   "cell_type": "code",
   "execution_count": 19,
   "metadata": {},
   "outputs": [],
   "source": [
    "def to_bin(data):\n",
    "    \"\"\"Convert `data` to binary format as string\"\"\"\n",
    "    if isinstance(data, str):\n",
    "        return ''.join([ format(ord(i), \"08b\") for i in data ])\n",
    "    elif isinstance(data, bytes) or isinstance(data, np.ndarray):\n",
    "        return [ format(i, \"08b\") for i in data ]\n",
    "    elif isinstance(data, int) or isinstance(data, np.uint8):\n",
    "        return format(data, \"08b\")\n",
    "    else:\n",
    "        raise TypeError(\"Type not supported.\")"
   ]
  },
  {
   "cell_type": "code",
   "execution_count": 20,
   "metadata": {},
   "outputs": [],
   "source": [
    "'''\n",
    "- First carrier image or cover image has been read and converted in to array of bits\n",
    "- the secret message which is in the form of characters are converted in to the “ASCII” values\n",
    "- ASCII values are converted in to array of bits\n",
    "- key will gives unique pixel position of cover image to embed the data LSB of particular image pixel of cover object\n",
    "\n",
    "Output: Stego-image has been generated which contains secret message embedded within cover image.\n",
    "\n",
    "'''\n",
    "#res = input(\"Enter data to be encoded(Without Space) : \") \n",
    "res= encrypt(text,Sum)\n",
    "\n",
    "#data = ''.join(format(ord(i), 'b') for i in res) \n",
    "#print(\"The string after binary conversion : \" + data) \n",
    "data = to_bin(res)\n",
    "msg_len = len(data)\n",
    "#print(\"msg length\",msg_len)\n",
    "            \n",
    "    \n",
    "i=0\n",
    "\n",
    "with Image.open(\"source_img.png\") as img:\n",
    "   \n",
    "    width, height = img.size\n",
    "    #print(width)\n",
    "    #print(height)\n",
    "    #img.show()\n",
    "    for x in range(key, width):\n",
    "        for y in range(key, height):\n",
    "            pixel = list(img.getpixel((x, y)))\n",
    "            for n in range(0,3):\n",
    "                if(i < len(data)):\n",
    "                    pixel[n] = pixel[n] & ~1 | int(data[i])\n",
    "                    i+=1\n",
    "                    \n",
    "            img.putpixel((x,y), tuple(pixel))\n",
    "            \n",
    "    \n",
    "    img.save(\"source_secret.png\", \"PNG\")\n",
    "        \n",
    "        "
   ]
  },
  {
   "cell_type": "markdown",
   "metadata": {},
   "source": [
    "# Step 4: AES Cryptography (CBC-mode) Encryption"
   ]
  },
  {
   "cell_type": "code",
   "execution_count": 21,
   "metadata": {},
   "outputs": [],
   "source": [
    "from PIL import Image\n",
    "from Crypto.Cipher import AES\n",
    "\n",
    "filename = \"source_secret.png\"\n",
    "filename_out = \"AES_encrypted_image\"\n",
    "format = \"PNG\"\n",
    "\n",
    "#hand_key=5980\n",
    "key = str(hand_key)*8\n",
    "#print('key', key)\n",
    "\n",
    "\n",
    "# AES requires that plaintexts be a multiple of 16, so we have to pad the data\n",
    "def pad(data):\n",
    "    return data + b\"\\x00\"*(16-len(data)%16) \n",
    " \n",
    "# Maps the RGB \n",
    "def convert_to_RGB(data):\n",
    "    r, g, b = tuple(map(lambda d: [data[i] for i in range(0,len(data)) if i % 3 == d], [0, 1, 2]))\n",
    "    pixels = tuple(zip(r,g,b))\n",
    "    return pixels\n",
    "    \n",
    "def process_image(filename):\n",
    "    # Opens image and converts it to RGB format for PIL\n",
    "    im = Image.open(filename)\n",
    "    data = im.convert(\"RGB\").tobytes()\n",
    " \n",
    "    # Since we will pad the data to satisfy AES's multiple-of-16 requirement, we will store the original data length and \"unpad\" it later.\n",
    "    original = len(data) \n",
    " \n",
    "    # Encrypts using desired AES mode (we'll set it to ECB by default)\n",
    "    new = convert_to_RGB(aes_cbc_encrypt(key, pad(data))[:original]) \n",
    "    \n",
    "    # Create a new PIL Image object and save the old image data into the new image.\n",
    "    im2 = Image.new(im.mode, im.size)\n",
    "    im2.putdata(new)\n",
    "    \n",
    "    #Save image\n",
    "    im2.save(filename_out+\".\"+format, format)\n",
    " \n",
    "\n",
    "# CBC\n",
    "def aes_cbc_encrypt(key, data, mode=AES.MODE_CBC):\n",
    "    IV = \"A\"*16  #We'll manually set the initialization vector to simplify things\n",
    "    aes = AES.new(key, mode, IV)\n",
    "    new_data = aes.encrypt(data)\n",
    "    return new_data\n",
    "# ECB\n",
    "def aes_ecb_encrypt(key, data, mode=AES.MODE_ECB):\n",
    "    aes = AES.new(key, mode)\n",
    "    new_data = aes.encrypt(data)\n",
    "    return new_data\n",
    " \n",
    "process_image(filename)\n"
   ]
  },
  {
   "cell_type": "markdown",
   "metadata": {},
   "source": [
    "# Step 5: AES Cryptography (CBC-mode) Decryption\n"
   ]
  },
  {
   "cell_type": "code",
   "execution_count": 22,
   "metadata": {},
   "outputs": [],
   "source": [
    "def aes_cbc_decrypt(key, data, mode=AES.MODE_CBC):\n",
    "    IV = \"A\"*16 \n",
    "    aes = AES.new(key, mode, IV)\n",
    "    decd = aes.decrypt(data)\n",
    "    return decd\n",
    "\n",
    "\n",
    "def decrypt_image(filename):\n",
    "    # Opens image and converts it to RGB format for PIL\n",
    "    im = Image.open(filename)\n",
    "    data = im.convert(\"RGB\").tobytes()\n",
    " \n",
    "    # Since we will pad the data to satisfy AES's multiple-of-16 requirement, we will store the original data length and \"unpad\" it later.\n",
    "    original = len(data) \n",
    "\n",
    "    # Decrypts using desired AES mode (we'll set it to ECB by default)\n",
    "    new = convert_to_RGB(aes_cbc_decrypt(key, pad(data))[:original]) \n",
    "    \n",
    "    # Create a new PIL Image object and save the old image data into the new image.\n",
    "    im3 = Image.new(im.mode, im.size)\n",
    "    im3.putdata(new)\n",
    "    \n",
    "    #Save image\n",
    "    im3.save(filename_in+\".\"+format, format)\n",
    "    \n",
    "\n",
    "filenames = filename_out+\".\"+format\n",
    "filename_in = \"AES_decrypted_image\"\n",
    "decrypt_image(filenames)\n"
   ]
  },
  {
   "cell_type": "markdown",
   "metadata": {},
   "source": [
    "# Step 6: Data Extraction using LSB"
   ]
  },
  {
   "cell_type": "code",
   "execution_count": 23,
   "metadata": {},
   "outputs": [
    {
     "name": "stdout",
     "output_type": "stream",
     "text": [
      "decoded_msg:=  Fgrtnabtencul\n"
     ]
    }
   ],
   "source": [
    "'''\n",
    "- Embedded secret data has extracted from stego-image\n",
    "- Extracting secret data the hand key is used\n",
    "\n",
    "'''\n",
    "extracted_bin = []\n",
    "with Image.open(\"AES_decrypted_image.png\") as img:\n",
    "    width, height = img.size\n",
    "    byte = []\n",
    "    for x in range(hand_key, width):\n",
    "        for y in range(hand_key, height):\n",
    "            pixel = list(img.getpixel((x, y)))\n",
    "            for n in range(0,3):\n",
    "                extracted_bin.append(pixel[n]&1)\n",
    "\n",
    "data = \"\".join([str(x) for x in extracted_bin])\n",
    "msg =''\n",
    "\n",
    "for i in range(msg_len):\n",
    "    msg+=str(extracted_bin[i])\n",
    "#print(msg)\n",
    "\n",
    "decoded_msg = ''.join(chr(int(msg[i*8:i*8+8],2)) for i in range(len(msg)//8))\n",
    "print(\"decoded_msg:= \",decoded_msg)\n"
   ]
  },
  {
   "cell_type": "markdown",
   "metadata": {},
   "source": [
    "# Step 7: Decrypt Msg using Ceaser Cipher"
   ]
  },
  {
   "cell_type": "code",
   "execution_count": 24,
   "metadata": {},
   "outputs": [
    {
     "name": "stdout",
     "output_type": "stream",
     "text": [
      "Received_msg : Fgrtnabtencul\n",
      "Decipher: Steganography\n"
     ]
    }
   ],
   "source": [
    "def decrypt(text,s):\n",
    "    result = \"\"\n",
    "    #print(\"lrngth\" , len(text))\n",
    "    for i in range(len(text)):\n",
    "        char = text[i]\n",
    "        # Encrypt uppercase characters in plain text\n",
    "        if (char.isupper()):\n",
    "            result += chr((ord(char) - s-65) % 26 + 65)\n",
    "        # Encrypt lowercase characters in plain text\n",
    "        else:\n",
    "            result += chr((ord(char) - s - 97) % 26 + 97)\n",
    "    return result\n",
    "\n",
    "print (\"Received_msg : \" + decoded_msg)\n",
    "print (\"Decipher: \" + decrypt(decoded_msg,Sum))\n"
   ]
  },
  {
   "cell_type": "markdown",
   "metadata": {},
   "source": [
    "# Step 8: PSNR"
   ]
  },
  {
   "cell_type": "code",
   "execution_count": 25,
   "metadata": {},
   "outputs": [
    {
     "name": "stdout",
     "output_type": "stream",
     "text": [
      "105.36680886253231\n"
     ]
    }
   ],
   "source": [
    "#calculate PSNR\n",
    "import math\n",
    "original = cv2.imread('source_img.png')\n",
    "updated = cv2.imread('source_secret.png',1)\n",
    "\n",
    "def psnr(img1, img2):\n",
    "    mse = np.mean( (img1 - img2) ** 2 )\n",
    "    if mse == 0:\n",
    "        return 100\n",
    "    PIXEL_MAX = 255.0\n",
    "    return 20 * math.log10(PIXEL_MAX / math.sqrt(mse))\n",
    "\n",
    "d=psnr(original,updated)\n",
    "print(d)"
   ]
  },
  {
   "cell_type": "markdown",
   "metadata": {},
   "source": [
    "# Step 9: MSE"
   ]
  },
  {
   "cell_type": "code",
   "execution_count": 26,
   "metadata": {},
   "outputs": [
    {
     "name": "stdout",
     "output_type": "stream",
     "text": [
      "5.669186305024455e-06\n"
     ]
    }
   ],
   "source": [
    "#calculate MSE\n",
    "def mse(original1, contrast1):\n",
    "    err = np.sum((original1.astype(\"float\") - contrast1.astype(\"float\")) ** 2)\n",
    "    err /= float(original1.shape[0] * original1.shape[1])\n",
    "    return err\n",
    "\n",
    "MSE=mse(original,updated)\n",
    "print(MSE)"
   ]
  }
 ],
 "metadata": {
  "kernelspec": {
   "display_name": "Python 3",
   "language": "python",
   "name": "python3"
  },
  "language_info": {
   "codemirror_mode": {
    "name": "ipython",
    "version": 3
   },
   "file_extension": ".py",
   "mimetype": "text/x-python",
   "name": "python",
   "nbconvert_exporter": "python",
   "pygments_lexer": "ipython3",
   "version": "3.6.5"
  }
 },
 "nbformat": 4,
 "nbformat_minor": 2
}
