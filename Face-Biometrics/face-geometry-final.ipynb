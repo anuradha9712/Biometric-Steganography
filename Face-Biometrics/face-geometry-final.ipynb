{
 "cells": [
  {
   "cell_type": "code",
   "execution_count": 1,
   "metadata": {},
   "outputs": [],
   "source": [
    "from PIL import Image\n",
    "from scipy import ndimage as ndi\n",
    "from skimage.feature import peak_local_max\n",
    "from skimage import data, img_as_float\n",
    "import binascii\n",
    "import matplotlib.pyplot as plt\n",
    "import matplotlib.image as mpimg\n",
    "import cv2\n",
    "import numpy as np\n",
    "import imutils\n",
    "\n"
   ]
  },
  {
   "cell_type": "markdown",
   "metadata": {},
   "source": [
    "# Step 1: Biometric using Face Geometry"
   ]
  },
  {
   "cell_type": "code",
   "execution_count": 2,
   "metadata": {},
   "outputs": [
    {
     "name": "stdout",
     "output_type": "stream",
     "text": [
      "face [[ 82  48 178 178]]\n",
      "eyes [[178  91  43  43]\n",
      " [117  90  47  47]]\n"
     ]
    }
   ],
   "source": [
    "\n",
    "face_cascade = cv2.CascadeClassifier('haarcascade_frontalface_default.xml')\n",
    "eye_cascade = cv2.CascadeClassifier('haarcascade_eye.xml')\n",
    "\n",
    "originalImage = cv2.imread('face2.png')\n",
    "img = cv2.resize(originalImage, (300,300))\n",
    "face_upper = []\n",
    "face_bottom = []\n",
    "leftEyes_upper = []\n",
    "leftEyes_bottom = []\n",
    "rightEyes_upper = []\n",
    "rightEyes_bottom = []\n",
    "\n",
    "\n",
    "\n",
    "\n",
    "def detect_faces(img, cascade):\n",
    "    gray_frame = cv2.cvtColor(img, cv2.COLOR_BGR2GRAY)\n",
    "    coords = cascade.detectMultiScale(gray_frame, 1.3, 5)\n",
    "    face_upper.append(coords[0][0])\n",
    "    face_upper.append(coords[0][1])\n",
    "    face_bottom.append(coords[0][0] + coords[0][2])\n",
    "    face_bottom.append(coords[0][1] + coords[0][3])\n",
    "\n",
    "\n",
    "\n",
    "    print(\"face\",coords)\n",
    "\n",
    "    if len(coords) > 1:\n",
    "        biggest = (0, 0, 0, 0)\n",
    "        for i in coords:\n",
    "            if i[3] > biggest[3]:\n",
    "                biggest = i\n",
    "        biggest = np.array([i], np.int32)\n",
    "    elif len(coords) == 1:\n",
    "        biggest = coords\n",
    "    else:\n",
    "        return None\n",
    "    for (x, y, w, h) in biggest:\n",
    "        cv2.rectangle(img,(x,y),(x+w,y+h),(0,225,255),2)    \n",
    "\n",
    "        frame = img[y:y + h, x:x + w]\n",
    "    return frame\n",
    "\n",
    "\n",
    "def detect_eyes(img, cascade):\n",
    "    gray_frame = cv2.cvtColor(img, cv2.COLOR_BGR2GRAY)\n",
    "    eyes = cascade.detectMultiScale(gray_frame, 1.3, 5)  # detect eyes\n",
    "    print(\"eyes\" , eyes)\n",
    "    \n",
    "    width = np.size(img, 1)  # get face frame width\n",
    "    height = np.size(img, 0)  # get face frame height\n",
    "    left_eye = None\n",
    "    right_eye = None\n",
    "    for (x, y, w, h) in eyes:\n",
    "        if y > height / 2:\n",
    "            pass\n",
    "        eyecenter = x + w / 2  # get the eye center\n",
    "\n",
    "        if eyecenter < width * 0.5:\n",
    "            left_eye = img[y:y + h, x:x + w]\n",
    "            cv2.rectangle(img,(x,y),(x+w,y+h),(0,225,255),2)\n",
    "            leftEyes_upper.append(x)\n",
    "            leftEyes_upper.append(y)\n",
    "            leftEyes_bottom.append(x+w)\n",
    "            leftEyes_bottom.append(y+h)\n",
    "            cv2.line(img,tuple(leftEyes_upper),tuple(leftEyes_bottom), (0, 0, 255), 3)\n",
    "\n",
    "        else:\n",
    "            right_eye = img[y:y + h, x:x + w]\n",
    "            cv2.rectangle(img,(x,y),(x+w,y+h),(0,225,255),2)\n",
    "            rightEyes_upper.append(x)\n",
    "            rightEyes_upper.append(y)\n",
    "            rightEyes_bottom.append(x+w)\n",
    "            rightEyes_bottom.append(y+h)\n",
    "            cv2.line(img,tuple(rightEyes_upper),tuple(rightEyes_bottom), (255, 0, 0), 3)\n",
    "\n",
    "\n",
    "    return left_eye, right_eye\n",
    "\n",
    "\n",
    "face_frame = detect_faces(img, face_cascade)\n",
    "if face_frame is not None:\n",
    "    eyes = detect_eyes(img, eye_cascade)\n",
    "\n",
    "    \n",
    "cv2.imshow('my image',img)\n",
    "cv2.waitKey(0)\n",
    "cv2.destroyAllWindows() \n",
    "\n"
   ]
  },
  {
   "cell_type": "code",
   "execution_count": 3,
   "metadata": {},
   "outputs": [
    {
     "name": "stdout",
     "output_type": "stream",
     "text": [
      "face_upper [82, 48]\n",
      "face_bottom [260, 226]\n",
      "leftEyes_upper [117, 90]\n",
      "leftEyes_bottom [164, 137]\n",
      "rightEyes_upper [178, 91]\n",
      "rightEyes_bottom [221, 134]\n"
     ]
    }
   ],
   "source": [
    "print(\"face_upper\", face_upper)\n",
    "print(\"face_bottom\", face_bottom)\n",
    "\n",
    "print(\"leftEyes_upper\", leftEyes_upper)\n",
    "print(\"leftEyes_bottom\", leftEyes_bottom)\n",
    "\n",
    "print(\"rightEyes_upper\", rightEyes_upper)\n",
    "print(\"rightEyes_bottom\", rightEyes_bottom)\n",
    "\n",
    "\n",
    "\n",
    "\n",
    "cv2.line(img, tuple(face_upper), tuple(face_bottom), (0, 255, 0), 3)\n",
    "cv2.line(img, tuple(leftEyes_upper), tuple(leftEyes_bottom), (255, 0, 0), 3) \n",
    "cv2.line(img, tuple(rightEyes_upper), tuple(rightEyes_bottom), (0, 0, 255), 3) \n",
    "cv2.circle(img, tuple(leftEyes_upper), 5, (255, 0, 0),3)\n",
    "cv2.circle(img, tuple(leftEyes_bottom), 5, (255, 0, 0),3) \n",
    "cv2.circle(img, tuple(rightEyes_bottom), 5, (0, 0, 255),3) \n",
    "cv2.circle(img, tuple(rightEyes_upper), 5, (0, 0, 255),3) \n",
    "\n",
    "\n",
    "\n",
    "\n",
    "cv2.imshow('my image',img)\n",
    "cv2.waitKey(0)\n",
    "cv2.destroyAllWindows()\n"
   ]
  },
  {
   "cell_type": "code",
   "execution_count": 4,
   "metadata": {},
   "outputs": [],
   "source": [
    "center_face = []\n",
    "center_leftEyes = []\n",
    "center_rightEyes = []\n",
    "center_face.append(int((face_upper[0]+face_bottom[0])/2))\n",
    "center_face.append(int((face_upper[1]+face_bottom[1])/2))\n",
    "\n",
    "center_leftEyes.append(int((leftEyes_upper[0]+leftEyes_bottom[0])/2))\n",
    "center_leftEyes.append(int((leftEyes_upper[1]+leftEyes_bottom[1])/2))\n",
    "\n",
    "center_rightEyes.append(int((rightEyes_upper[0]+rightEyes_bottom[0])/2))\n",
    "center_rightEyes.append(int((rightEyes_upper[1]+rightEyes_bottom[1])/2))\n",
    "\n",
    "cv2.circle(img, tuple(center_face), 5, (0, 0, 0),3) \n",
    "cv2.circle(img, tuple(center_leftEyes), 5, (0, 0, 0),3) \n",
    "cv2.circle(img, tuple(center_rightEyes), 5, (0, 0, 0),3) \n",
    "\n",
    "\n",
    "cv2.imshow('my image',img)\n",
    "cv2.waitKey(0)\n",
    "cv2.destroyAllWindows()\n"
   ]
  },
  {
   "cell_type": "markdown",
   "metadata": {},
   "source": [
    "# Step 2: Key Generation"
   ]
  },
  {
   "cell_type": "code",
   "execution_count": 5,
   "metadata": {},
   "outputs": [
    {
     "data": {
      "text/plain": [
       "[46.52956049652737,\n",
       " 50.08991914547278,\n",
       " 71.58910531638176,\n",
       " 7.0,\n",
       " 37.53664875824692,\n",
       " 39.20459156782532]"
      ]
     },
     "execution_count": 5,
     "metadata": {},
     "output_type": "execute_result"
    }
   ],
   "source": [
    "distVector = []\n",
    "distVector.append(np.sqrt( (center_face[0]-rightEyes_upper[0])**2 + (center_face[1]-rightEyes_upper[1])**2 ))\n",
    "distVector.append(np.sqrt( (center_face[0]-rightEyes_bottom[0])**2 + (center_face[1]-rightEyes_bottom[1])**2 ))\n",
    "distVector.append(np.sqrt( (center_face[0]-leftEyes_upper[0])**2 + (center_face[1]-leftEyes_upper[1])**2 ))\n",
    "distVector.append(np.sqrt( (center_face[0]-leftEyes_bottom[0])**2 + (center_face[1]-leftEyes_bottom[1])**2 ))\n",
    "distVector.append(np.sqrt( (center_face[0]-center_rightEyes[0])**2 + (center_face[1]-center_rightEyes[1])**2 ))\n",
    "distVector.append(np.sqrt( (center_face[0]-center_leftEyes[0])**2 + (center_face[1]-center_leftEyes[1])**2 ))\n",
    "\n",
    "distVector"
   ]
  },
  {
   "cell_type": "code",
   "execution_count": 6,
   "metadata": {},
   "outputs": [
    {
     "name": "stdout",
     "output_type": "stream",
     "text": [
      "Variance of sample set is 442.84285130443436\n",
      "Standard Deviation of sample is 21.043831668791555 \n"
     ]
    }
   ],
   "source": [
    "'''\n",
    "Variance and standard deviation is calculated for pairwise Euclidean distance\n",
    "'''\n",
    "import statistics \n",
    "\n",
    "variance = statistics.variance(distVector)\n",
    "std_dev = statistics.stdev(distVector)\n",
    "print(\"Variance of sample set is % s\"  %(variance))\n",
    "print(\"Standard Deviation of sample is % s \" %(std_dev)) "
   ]
  },
  {
   "cell_type": "code",
   "execution_count": 7,
   "metadata": {},
   "outputs": [
    {
     "name": "stdout",
     "output_type": "stream",
     "text": [
      "Key Generated:-  445\n"
     ]
    }
   ],
   "source": [
    "'''\n",
    "Unique 3 digit key generation\n",
    "Key= (Most Significant 2 Digits of p1) * 10 + (Least Significant 1 Digits p2)\n",
    "Where\n",
    "P1 = variance of Hand points pairs wise distance\n",
    "P2 = standard deviation of Hand points pairs wise distance\n",
    "\n",
    "'''\n",
    "MSB = int(str(variance)[:2])\n",
    "LSB = int(str(std_dev)[-1:])\n",
    "#print(MSB,LSB)\n",
    "key = (MSB)* 10 + (LSB)\n",
    "print(\"Key Generated:- \",key)"
   ]
  },
  {
   "cell_type": "markdown",
   "metadata": {},
   "source": [
    "# Step 3: Encrypt msg using Transposition Cipher"
   ]
  },
  {
   "cell_type": "code",
   "execution_count": 8,
   "metadata": {},
   "outputs": [
    {
     "name": "stdout",
     "output_type": "stream",
     "text": [
      "13\n"
     ]
    }
   ],
   "source": [
    "Number = key\n",
    "Sum = 0\n",
    "while(Number > 0):\n",
    "    r = Number % 10\n",
    "    Sum = Sum + r\n",
    "    Number = Number//10\n",
    "print(Sum)\n",
    "face_key = Sum\n"
   ]
  },
  {
   "cell_type": "code",
   "execution_count": 9,
   "metadata": {},
   "outputs": [
    {
     "name": "stdout",
     "output_type": "stream",
     "text": [
      "Enter data to be encoded(Without Space) : Biometric Steganography lsb123\n",
      "len 30\n",
      "Cipher Text is\n",
      "Bgbia1on2mo3egtrraipch yS tles\n"
     ]
    }
   ],
   "source": [
    "#Transposition cipher \n",
    "\n",
    "def encryptMessage(key, message):\n",
    "    ciphertext = [''] * key\n",
    "   \n",
    "    for col in range(key):\n",
    "        position = col\n",
    "        while position < len(message):\n",
    "            ciphertext[col] += message[position]\n",
    "            position += key\n",
    "    return ''.join(ciphertext) #Cipher text\n",
    "    \n",
    "myMessage = input(\"Enter data to be encoded(Without Space) : \")\n",
    "print(\"len\",len(myMessage))\n",
    "#myMessage = \"Transposition Cipher\"\n",
    "\n",
    "ciphertext = encryptMessage(face_key, myMessage)\n",
    "   \n",
    "print(\"Cipher Text is\")\n",
    "print(ciphertext)\n",
    "#pyperclip.copy(ciphertext)"
   ]
  },
  {
   "cell_type": "markdown",
   "metadata": {},
   "source": [
    "# # Step 4: Image Steganography using LSB\n"
   ]
  },
  {
   "cell_type": "code",
   "execution_count": 10,
   "metadata": {},
   "outputs": [],
   "source": [
    "def to_bin(data):\n",
    "    \"\"\"Convert `data` to binary format as string\"\"\"\n",
    "    if isinstance(data, str):\n",
    "        return ''.join([ format(ord(i), \"08b\") for i in data ])\n",
    "    elif isinstance(data, bytes) or isinstance(data, np.ndarray):\n",
    "        return [ format(i, \"08b\") for i in data ]\n",
    "    elif isinstance(data, int) or isinstance(data, np.uint8):\n",
    "        return format(data, \"08b\")\n",
    "    else:\n",
    "        raise TypeError(\"Type not supported.\")\n",
    "        "
   ]
  },
  {
   "cell_type": "code",
   "execution_count": 11,
   "metadata": {},
   "outputs": [
    {
     "name": "stdout",
     "output_type": "stream",
     "text": [
      "res Bgbia1on2mo3egtrraipch yS tles\n",
      "msg length 240\n",
      "4000\n",
      "2249\n",
      "445\n"
     ]
    }
   ],
   "source": [
    "'''\n",
    "- First carrier image or cover image has been read and converted in to array of bits\n",
    "- the secret message which is in the form of characters are converted in to the “ASCII” values\n",
    "- ASCII values are converted in to array of bits\n",
    "- key will gives unique pixel position of cover image to embed the data LSB of particular image pixel of cover object\n",
    "\n",
    "Output: Stego-image has been generated which contains secret message embedded within cover image.\n",
    "\n",
    "'''\n",
    "#res = input(\"Enter data to be encoded(Without Space) : \") \n",
    "res= str(ciphertext)\n",
    "print(\"res\",res)\n",
    "\n",
    "#data = ''.join(format(ord(i), 'b') for i in res) \n",
    "#print(\"The string after binary conversion : \" + data)\n",
    "data = to_bin(res)\n",
    "msg_len = len(data)\n",
    "print(\"msg length\",msg_len)\n",
    "            \n",
    "    \n",
    "i=0\n",
    "\n",
    "with Image.open(\"source_img.png\") as img:\n",
    "   \n",
    "    width, height = img.size\n",
    "    print(width)\n",
    "    print(height)\n",
    "    #img.show()\n",
    "    print(key)\n",
    "    for x in range(key, width):\n",
    "        for y in range(key, height):\n",
    "            pixel = list(img.getpixel((x, y)))\n",
    "            for n in range(0,3):\n",
    "                if(i < len(data)):\n",
    "                    pixel[n] = pixel[n] & ~1 | int(data[i])\n",
    "                    i+=1\n",
    "                    \n",
    "            img.putpixel((x,y), tuple(pixel))\n",
    "            \n",
    "    \n",
    "    img.save(\"source_secret.png\", \"PNG\")\n",
    "        \n",
    "        "
   ]
  },
  {
   "cell_type": "markdown",
   "metadata": {},
   "source": [
    "# Step 5: Data Extraction using LSB"
   ]
  },
  {
   "cell_type": "code",
   "execution_count": 12,
   "metadata": {},
   "outputs": [
    {
     "name": "stdout",
     "output_type": "stream",
     "text": [
      "decoded_msg:=  Bgbia1on2mo3egtrraipch yS tles\n"
     ]
    }
   ],
   "source": [
    "'''\n",
    "- Embedded secret data has extracted from stego-image\n",
    "- Extracting secret data the hand key is used\n",
    "\n",
    "'''\n",
    "extracted_bin = []\n",
    "with Image.open(\"source_secret.png\") as img:\n",
    "    width, height = img.size\n",
    "    byte = []\n",
    "    for x in range(key, width):\n",
    "        for y in range(key, height):\n",
    "            pixel = list(img.getpixel((x, y)))\n",
    "            for n in range(0,3):\n",
    "                extracted_bin.append(pixel[n]&1)\n",
    "\n",
    "data = \"\".join([str(x) for x in extracted_bin])\n",
    "msg =''\n",
    "\n",
    "for i in range(msg_len):\n",
    "    msg+=str(extracted_bin[i])\n",
    "#print(msg)\n",
    "\n",
    "decoded_msg = ''.join(chr(int(msg[i*8:i*8+8],2)) for i in range(len(msg)//8))\n",
    "print(\"decoded_msg:= \",decoded_msg)\n"
   ]
  },
  {
   "cell_type": "markdown",
   "metadata": {},
   "source": [
    "# Step 6: decrypt msg using Transposition Cipher"
   ]
  },
  {
   "cell_type": "code",
   "execution_count": 13,
   "metadata": {},
   "outputs": [
    {
     "name": "stdout",
     "output_type": "stream",
     "text": [
      "The plain text is\n",
      "Biometric Steganography lsb123\n"
     ]
    }
   ],
   "source": [
    "import math\n",
    "def decryptMessage(key, message):\n",
    "    \n",
    "    numOfColumns = math.ceil(len(message) / key)\n",
    "    numOfRows = key\n",
    "    numOfShadedBoxes = (numOfColumns * numOfRows) - len(message)\n",
    "    plaintext = [\"\"]  * numOfColumns\n",
    "    col = 0\n",
    "    row = 0\n",
    "   \n",
    "    for symbol in message:\n",
    "        plaintext[col] += symbol\n",
    "        col += 1\n",
    "        if (col == numOfColumns) or (col == numOfColumns - 1 and row >= numOfRows - numOfShadedBoxes):\n",
    "                col = 0 \n",
    "                row += 1 \n",
    "    return ''.join(plaintext)\n",
    "            \n",
    "plaintext = decryptMessage(face_key, decoded_msg)\n",
    "   \n",
    "print(\"The plain text is\")\n",
    "print(plaintext)\n"
   ]
  },
  {
   "cell_type": "markdown",
   "metadata": {},
   "source": [
    "# Step 7: PSNR (Peak Signal to Noise Ratio)"
   ]
  },
  {
   "cell_type": "code",
   "execution_count": 14,
   "metadata": {},
   "outputs": [
    {
     "name": "stdout",
     "output_type": "stream",
     "text": [
      "101.47341049343112\n"
     ]
    }
   ],
   "source": [
    "#calculate PSNR\n",
    "import math\n",
    "original = cv2.imread('source_img.png')\n",
    "updated = cv2.imread('source_secret.png',1)\n",
    "\n",
    "def psnr(img1, img2):\n",
    "    mse = np.mean( (img1 - img2) ** 2 )\n",
    "    if mse == 0:\n",
    "        return 100\n",
    "    PIXEL_MAX = 255.0\n",
    "    return 20 * math.log10(PIXEL_MAX / math.sqrt(mse))\n",
    "\n",
    "d=psnr(original,updated)\n",
    "print(d)"
   ]
  },
  {
   "cell_type": "markdown",
   "metadata": {},
   "source": [
    "# Step 8: MSE"
   ]
  },
  {
   "cell_type": "code",
   "execution_count": 15,
   "metadata": {},
   "outputs": [
    {
     "name": "stdout",
     "output_type": "stream",
     "text": [
      "1.3895064473099155e-05\n"
     ]
    }
   ],
   "source": [
    "#calculate MSE\n",
    "def mse(original1, contrast1):\n",
    "    err = np.sum((original1.astype(\"float\") - contrast1.astype(\"float\")) ** 2)\n",
    "    err /= float(original1.shape[0] * original1.shape[1])\n",
    "    return err\n",
    "\n",
    "MSE=mse(original,updated)\n",
    "print(MSE)"
   ]
  }
 ],
 "metadata": {
  "kernelspec": {
   "display_name": "Python 3",
   "language": "python",
   "name": "python3"
  },
  "language_info": {
   "codemirror_mode": {
    "name": "ipython",
    "version": 3
   },
   "file_extension": ".py",
   "mimetype": "text/x-python",
   "name": "python",
   "nbconvert_exporter": "python",
   "pygments_lexer": "ipython3",
   "version": "3.6.5"
  }
 },
 "nbformat": 4,
 "nbformat_minor": 2
}
